{
  "nbformat": 4,
  "nbformat_minor": 0,
  "metadata": {
    "colab": {
      "private_outputs": true,
      "provenance": []
    },
    "kernelspec": {
      "name": "python3",
      "display_name": "Python 3"
    },
    "language_info": {
      "name": "python"
    },
    "accelerator": "GPU",
    "gpuClass": "standard"
  },
  "cells": [
    {
      "cell_type": "code",
      "execution_count": null,
      "metadata": {
        "id": "zatEv_gf4nnD"
      },
      "outputs": [],
      "source": [
        "# python libraries for data visualization and manipulation\n",
        "import numpy as np\n",
        "import matplotlib.pyplot as plt\n",
        "from matplotlib import style\n",
        "\n",
        "# model selection\n",
        "from sklearn.model_selection import train_test_split\n",
        "from sklearn.model_selection import KFold\n",
        "from sklearn.metrics import accuracy_score,precision_score,recall_score,confusion_matrix,roc_curve,roc_auc_score\n",
        "from sklearn.model_selection import GridSearchCV\n",
        "from sklearn.preprocessing import LabelEncoder\n",
        "\n",
        "# specifically for manipulating zipped images and getting numpy arrays of pixel values of images.\n",
        "import cv2                  \n",
        "import numpy as np  \n",
        "from tqdm import tqdm\n",
        "import os                   \n",
        "from random import shuffle  \n",
        "from zipfile import ZipFile\n",
        "from PIL import Image\n",
        "\n",
        "# preprocess.\n",
        "from keras.preprocessing.image import ImageDataGenerator\n",
        "\n",
        "#deep learning libraraies\n",
        "from keras import backend as K\n",
        "from keras.models import Sequential\n",
        "from keras.layers import Dense\n",
        "from keras.optimizers import Adam,SGD,Adagrad,Adadelta,RMSprop\n",
        "from keras.utils import to_categorical\n",
        "\n",
        "# specifically for convolutional neural networks\n",
        "from keras.layers import Dropout, Flatten,Activation\n",
        "from keras.layers import Conv2D, MaxPooling2D, BatchNormalization\n",
        " \n",
        "import tensorflow as tf\n",
        "import tensorflow_hub as hub\n",
        "import random as rn\n",
        "\n",
        "print(\"TF version:\", tf.__version__)\n",
        "print(\"TF Hub version:\", hub.__version__)\n",
        "print(\"GPU\", \"available (True)\" if tf.config.list_physical_devices(\"GPU\") else \"not available :(\")"
      ]
    },
    {
      "cell_type": "code",
      "source": [
        "from google.colab import drive\n",
        "drive.mount('/content/gdrive', force_remount=True)"
      ],
      "metadata": {
        "id": "lkaQHkWn5BvG"
      },
      "execution_count": null,
      "outputs": []
    },
    {
      "cell_type": "code",
      "source": [
        "daisy_flower_dir = \"/content/gdrive/MyDrive/flowers/daisy\"\n",
        "sunflower_dir = \"/content/gdrive/MyDrive/flowers/sunflower\"\n",
        "tulip_flower_dir = \"/content/gdrive/MyDrive/flowers/tulip\"\n",
        "dandelion_flower_dir = \"/content/gdrive/MyDrive/flowers/dandelion\"\n",
        "rose_flower_dir =  \"/content/gdrive/MyDrive/flowers/rose\""
      ],
      "metadata": {
        "id": "zuX24q9f5X8C"
      },
      "execution_count": null,
      "outputs": []
    },
    {
      "cell_type": "code",
      "source": [
        "Img_Array = []\n",
        "Img_Label = []\n",
        "\n",
        "def assign_label(img,flower_type):\n",
        "    return flower_type\n",
        "\n",
        "def make_train_data(flower_type,DIR):\n",
        "    for img in tqdm(os.listdir(DIR)):\n",
        "        label=assign_label(img,flower_type)\n",
        "        path = os.path.join(DIR,img)\n",
        "        img = cv2.imread(path,cv2.IMREAD_COLOR)\n",
        "        img = cv2.resize(img, (224,224))\n",
        "        \n",
        "        Img_Array.append(np.array(img))\n",
        "        Img_Label.append(str(label))"
      ],
      "metadata": {
        "id": "3qxVHV_k6IJ4"
      },
      "execution_count": null,
      "outputs": []
    },
    {
      "cell_type": "code",
      "source": [
        "make_train_data('Daisy',daisy_flower_dir)\n",
        "make_train_data('Sunflower',sunflower_dir)\n",
        "make_train_data('Tulip',tulip_flower_dir)\n",
        "make_train_data('Dandelion',dandelion_flower_dir)\n",
        "make_train_data('Rose',rose_flower_dir)"
      ],
      "metadata": {
        "id": "D0cb3vvX6MEf"
      },
      "execution_count": null,
      "outputs": []
    },
    {
      "cell_type": "code",
      "source": [
        "# Check visualization random images\n",
        "fig,ax=plt.subplots(3,4)\n",
        "fig.set_size_inches(12,12)\n",
        "for i in range(3):\n",
        "    for j in range (4):\n",
        "        l=rn.randint(0,len(Img_Label))\n",
        "        ax[i,j].axis('off')\n",
        "        ax[i,j].imshow(Img_Array[l])\n",
        "        ax[i,j].set_title('Flowers : '+Img_Label[l])\n",
        "\n",
        "plt.tight_layout()\n",
        "plt.show()"
      ],
      "metadata": {
        "id": "drKzsp8-6QkZ"
      },
      "execution_count": null,
      "outputs": []
    },
    {
      "cell_type": "code",
      "source": [
        "# label\n",
        "le=LabelEncoder()\n",
        "Y=le.fit_transform(Img_Label)\n",
        "Y=to_categorical(Y,5)\n",
        "X=np.array(Img_Array)\n",
        "X=X/255\n",
        "\n",
        "# setting random seeds\n",
        "np.random.seed(42)\n",
        "rn.seed(42)\n",
        "tf.random.set_seed(42)\n",
        "\n",
        "# split train and validation sets\n",
        "x_train,x_test,y_train,y_test=train_test_split(X,Y,test_size=0.20,random_state=42)"
      ],
      "metadata": {
        "id": "df93hu4d7JXD"
      },
      "execution_count": null,
      "outputs": []
    },
    {
      "cell_type": "code",
      "source": [
        "batch_size=128\n",
        "epochs=100\n",
        "lr = 0.001\n",
        "\n",
        "datagen = ImageDataGenerator(\n",
        "          featurewise_center=False,\n",
        "          samplewise_center=False,\n",
        "          featurewise_std_normalization=False,\n",
        "          samplewise_std_normalization=False,\n",
        "          zca_whitening=False,\n",
        "          rotation_range=10,\n",
        "          zoom_range = 0.1,\n",
        "          width_shift_range=0.2,\n",
        "          height_shift_range=0.2,\n",
        "          horizontal_flip=True,\n",
        "          vertical_flip=False)\n",
        "\n",
        "datagen.fit(x_train)"
      ],
      "metadata": {
        "id": "m7XHrqnn7N01"
      },
      "execution_count": null,
      "outputs": []
    },
    {
      "cell_type": "code",
      "source": [
        "# modelling CNN.\n",
        "model = Sequential()\n",
        "model.add(Conv2D(filters = 16, kernel_size = (6,6),padding = 'Same',activation ='relu', input_shape = (224,224,3)))\n",
        "model.add(MaxPooling2D(pool_size=(2,2)))\n",
        "model.add(Conv2D(filters = 32, kernel_size = (3,3),padding = 'Same',activation ='relu'))\n",
        "model.add(MaxPooling2D(pool_size=(2,2), strides=(2,2)))\n",
        "model.add(Conv2D(filters =64, kernel_size = (3,3),padding = 'Same',activation ='relu'))\n",
        "model.add(MaxPooling2D(pool_size=(2,2), strides=(2,2)))\n",
        "model.add(Conv2D(filters = 128, kernel_size = (3,3),padding = 'Same',activation ='relu'))\n",
        "model.add(MaxPooling2D(pool_size=(2,2), strides=(2,2)))\n",
        "model.add(Flatten())\n",
        "model.add(Dense(512))\n",
        "model.add(Activation('relu'))\n",
        "model.add(Dense(5, activation = \"softmax\"))"
      ],
      "metadata": {
        "id": "Lak8e2E27S4w"
      },
      "execution_count": null,
      "outputs": []
    },
    {
      "cell_type": "code",
      "source": [
        "model.compile(optimizer=Adam(lr),loss='categorical_crossentropy',metrics=['accuracy'])\n",
        "model.summary()"
      ],
      "metadata": {
        "id": "XgHlH0Lh7VEF"
      },
      "execution_count": null,
      "outputs": []
    },
    {
      "cell_type": "code",
      "source": [
        "History = model.fit(datagen.flow (x_train,y_train, batch_size=batch_size),\n",
        "          epochs = epochs, validation_data = (x_test,y_test),\n",
        "          verbose = 1, steps_per_epoch=x_train.shape[0] // batch_size)"
      ],
      "metadata": {
        "id": "2fYP4cSp7XKp"
      },
      "execution_count": null,
      "outputs": []
    },
    {
      "cell_type": "code",
      "source": [
        "import joblib\n",
        "joblib.dump(model, '/content/gdrive/MyDrive/flowers/model_flowers_v1.pkl')"
      ],
      "metadata": {
        "id": "uPempTOKBsL-"
      },
      "execution_count": null,
      "outputs": []
    },
    {
      "cell_type": "code",
      "source": [
        "plt.plot(History.history['accuracy'])\n",
        "plt.plot(History.history['val_accuracy'])\n",
        "plt.title('Model Accuracy')\n",
        "plt.ylabel('Accuracy')\n",
        "plt.xlabel('Epochs')\n",
        "plt.legend(['train', 'test'])\n",
        "plt.show()"
      ],
      "metadata": {
        "id": "9FXySy2L7a1f"
      },
      "execution_count": null,
      "outputs": []
    },
    {
      "cell_type": "code",
      "source": [
        "plt.plot(History.history['loss'])\n",
        "plt.plot(History.history['val_loss'])\n",
        "plt.title('Model Loss')\n",
        "plt.ylabel('Loss')\n",
        "plt.xlabel('Epochs')\n",
        "plt.legend(['train', 'test'])\n",
        "plt.show()"
      ],
      "metadata": {
        "id": "k-pHULCQ8XZa"
      },
      "execution_count": null,
      "outputs": []
    },
    {
      "cell_type": "code",
      "source": [
        "pred=model.predict(x_test)\n",
        "pred_digits=np.argmax(pred,axis=1)"
      ],
      "metadata": {
        "id": "LVGpyvoG8ZtV"
      },
      "execution_count": null,
      "outputs": []
    },
    {
      "cell_type": "code",
      "source": [
        "#from keras.preprocessing import image\n",
        "from tensorflow.keras.preprocessing import image"
      ],
      "metadata": {
        "id": "rQHyZ3vAAU0I"
      },
      "execution_count": null,
      "outputs": []
    },
    {
      "cell_type": "code",
      "source": [
        "from PIL import Image"
      ],
      "metadata": {
        "id": "WLnsWXEzA796"
      },
      "execution_count": null,
      "outputs": []
    },
    {
      "cell_type": "code",
      "source": [
        "LOAD_MODEL = joblib.load('/content/gdrive/MyDrive/flowers/model_flowers_v1.pkl')"
      ],
      "metadata": {
        "id": "Wx6OueCXBgvR"
      },
      "execution_count": null,
      "outputs": []
    },
    {
      "cell_type": "code",
      "source": [
        "img = tf.keras.utils.load_img(\"/content/gdrive/MyDrive/flowers/tulip/112428919_f0c5ad7d9d_n.jpg\", target_size = (224, 224))\n",
        "img = image.img_to_array(img)\n",
        "img = np.expand_dims(img, axis = 0)\n",
        "img /= 255.\n",
        "plt.imshow(img[0])                           \n",
        "plt.axis('off')\n",
        "plt.show()\n",
        "preds = LOAD_MODEL.predict(img)\n",
        "pred_digits=np.argmax(preds,axis=1)\n",
        "labels = str(le.inverse_transform(pred_digits))\n",
        "print(\"PREDICTION       :\",labels.replace('[','').replace(']','').replace(']',''))\n",
        "predictions = preds\n",
        "score = preds[0]\n",
        "print(\"CONFIDENCE SCORE : {0:.5f} %\".format(100 * np.max(score)))\n"
      ],
      "metadata": {
        "id": "w0mEYC_K8idZ"
      },
      "execution_count": null,
      "outputs": []
    },
    {
      "cell_type": "code",
      "source": [
        "img = tf.keras.utils.load_img(\"/content/gdrive/MyDrive/flowers/rose/14408977935_a397e796b8_m.jpg\", target_size = (224, 224))\n",
        "img = image.img_to_array(img)\n",
        "img = np.expand_dims(img, axis = 0)\n",
        "img /= 255.\n",
        "plt.imshow(img[0])                           \n",
        "plt.axis('off')\n",
        "plt.show()\n",
        "preds = LOAD_MODEL.predict(img)\n",
        "pred_digits=np.argmax(preds,axis=1)\n",
        "labels = str(le.inverse_transform(pred_digits))\n",
        "print(\"PREDICTION       :\",labels.replace('[','').replace(']','').replace(']',''))\n",
        "predictions = preds\n",
        "score = preds[0]\n",
        "print(\"CONFIDENCE SCORE : {0:.5f} %\".format(100 * np.max(score)))\n"
      ],
      "metadata": {
        "id": "MPw07REI_V5e"
      },
      "execution_count": null,
      "outputs": []
    },
    {
      "cell_type": "code",
      "source": [
        "img = tf.keras.utils.load_img(\"/content/gdrive/MyDrive/flowers/daisy/25360380_1a881a5648.jpg\", target_size = (224, 224))\n",
        "img = image.img_to_array(img)\n",
        "img = np.expand_dims(img, axis = 0)\n",
        "img /= 255.\n",
        "plt.imshow(img[0])                           \n",
        "plt.axis('off')\n",
        "plt.show()\n",
        "preds = LOAD_MODEL.predict(img)\n",
        "pred_digits=np.argmax(preds,axis=1)\n",
        "labels = str(le.inverse_transform(pred_digits))\n",
        "print(\"PREDICTION       :\",labels.replace('[','').replace(']','').replace(']',''))\n",
        "predictions = preds\n",
        "score = preds[0]\n",
        "print(\"CONFIDENCE SCORE : {0:.5f} %\".format(100 * np.max(score)))\n"
      ],
      "metadata": {
        "id": "g3fR9gob8kwt"
      },
      "execution_count": null,
      "outputs": []
    },
    {
      "cell_type": "code",
      "source": [
        "img = tf.keras.utils.load_img(\"/content/gdrive/MyDrive/flowers/135994133_4f306fe4bf_n.jpg\", target_size = (224, 224))\n",
        "img = image.img_to_array(img)\n",
        "img = np.expand_dims(img, axis = 0)\n",
        "img /= 255.\n",
        "plt.imshow(img[0])                           \n",
        "plt.axis('off')\n",
        "plt.show()\n",
        "preds = LOAD_MODEL.predict(img)\n",
        "pred_digits=np.argmax(preds,axis=1)\n",
        "labels = str(le.inverse_transform(pred_digits))\n",
        "print(\"PREDICTION       :\",labels.replace('[','').replace(']','').replace(']',''))\n",
        "predictions = preds\n",
        "score = preds[0]\n",
        "print(\"CONFIDENCE SCORE : {0:.5f} %\".format(100 * np.max(score)))\n"
      ],
      "metadata": {
        "id": "nPYuI80o8mZS"
      },
      "execution_count": null,
      "outputs": []
    },
    {
      "cell_type": "code",
      "source": [
        "img = tf.keras.utils.load_img(\"/content/gdrive/MyDrive/flowers/141340262_ca2e576490.jpg\", target_size = (224, 224))\n",
        "img = image.img_to_array(img)\n",
        "img = np.expand_dims(img, axis = 0)\n",
        "img /= 255.\n",
        "plt.imshow(img[0])                           \n",
        "plt.axis('off')\n",
        "plt.show()\n",
        "preds = LOAD_MODEL.predict(img)\n",
        "pred_digits=np.argmax(preds,axis=1)\n",
        "labels = str(le.inverse_transform(pred_digits))\n",
        "print(\"PREDICTION       :\",labels.replace('[','').replace(']','').replace(']',''))\n",
        "predictions = preds\n",
        "score = preds[0]\n",
        "print(\"CONFIDENCE SCORE : {0:.5f} %\".format(100 * np.max(score)))\n"
      ],
      "metadata": {
        "id": "upPAu81a8qBn"
      },
      "execution_count": null,
      "outputs": []
    },
    {
      "cell_type": "code",
      "source": [
        "pred = LOAD_MODEL.predict(x_test)\n",
        "pred_digits=np.argmax(pred,axis=1)"
      ],
      "metadata": {
        "id": "Up5ztt7wD81N"
      },
      "execution_count": null,
      "outputs": []
    },
    {
      "cell_type": "code",
      "source": [
        "pred_digits"
      ],
      "metadata": {
        "id": "2HziR1z9FO5N"
      },
      "execution_count": null,
      "outputs": []
    },
    {
      "cell_type": "code",
      "source": [
        "print(model.evaluate(x_train, y_train))"
      ],
      "metadata": {
        "id": "jRkTt67fFWWJ"
      },
      "execution_count": null,
      "outputs": []
    },
    {
      "cell_type": "code",
      "source": [],
      "metadata": {
        "id": "49Uy-0WnHbX9"
      },
      "execution_count": null,
      "outputs": []
    }
  ]
}